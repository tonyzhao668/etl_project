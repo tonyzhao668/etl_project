{
 "cells": [
  {
   "cell_type": "code",
   "execution_count": 2,
   "metadata": {},
   "outputs": [],
   "source": [
    "import pandas as pd\n",
    "from sqlalchemy import create_engine\n",
    "from sqlalchemy import inspect"
   ]
  },
  {
   "cell_type": "markdown",
   "metadata": {},
   "source": [
    "### Extract CSVs into DataFrames"
   ]
  },
  {
   "cell_type": "code",
   "execution_count": 3,
   "metadata": {},
   "outputs": [
    {
     "name": "stdout",
     "output_type": "stream",
     "text": [
      "<class 'pandas.core.frame.DataFrame'>\n",
      "RangeIndex: 136 entries, 0 to 135\n",
      "Data columns (total 13 columns):\n",
      " #   Column                   Non-Null Count  Dtype  \n",
      "---  ------                   --------------  -----  \n",
      " 0   X                        136 non-null    float64\n",
      " 1   Y                        136 non-null    float64\n",
      " 2   OBJECTID                 136 non-null    int64  \n",
      " 3   Id                       136 non-null    int64  \n",
      " 4   DateStarted              136 non-null    object \n",
      " 5   EstimatedCompletionDate  136 non-null    object \n",
      " 6   WorkType                 136 non-null    object \n",
      " 7   Description              136 non-null    object \n",
      " 8   Suburb                   92 non-null     object \n",
      " 9   Road                     136 non-null    object \n",
      " 10  TrafficImpact            136 non-null    object \n",
      " 11  Region                   136 non-null    object \n",
      " 12  EntryDate                136 non-null    object \n",
      "dtypes: float64(2), int64(2), object(9)\n",
      "memory usage: 13.9+ KB\n"
     ]
    }
   ],
   "source": [
    "roadworks_details_file = \"Resources\\Roadworks.csv\"\n",
    "roadworks_details_df = pd.read_csv(roadworks_details_file)\n",
    "# roadworks_details_df.head(3)\n",
    "roadworks_details_df.info()  #check datatype and columns info\n"
   ]
  },
  {
   "cell_type": "markdown",
   "metadata": {},
   "source": [
    "### Transform roadworks_details DataFrame"
   ]
  },
  {
   "cell_type": "code",
   "execution_count": 4,
   "metadata": {},
   "outputs": [
    {
     "data": {
      "text/plain": [
       "False"
      ]
     },
     "execution_count": 4,
     "metadata": {},
     "output_type": "execute_result"
    }
   ],
   "source": [
    "# Create a filtered dataframe from specific columns\n",
    "roadworks_cols = [\"Id\", \"DateStarted\", \"EstimatedCompletionDate\",\"WorkType\",\"Suburb\",\"Road\",\"Region\",\"TrafficImpact\"]\n",
    "roadworks_transformed= roadworks_details_df[roadworks_cols].copy()\n",
    "\n",
    "\n",
    "# Rename the column headers\n",
    "roadworks_transformed = roadworks_transformed.rename(columns={\"Id\":\"id\",\"DateStarted\": \"startdate\",\n",
    "                                                              \"EstimatedCompletionDate\": \"finishdate\",\n",
    "                                                             \"WorkType\":\"worktype\",\"Suburb\":\"suburb\",\n",
    "                                                             \"Road\":\"road\",\"Region\":\"region\",\"TrafficImpact\":\"trafficimpact\"})\n",
    "roadworks_transformed.head()\n",
    "roadworks_transformed.set_index('id', inplace=True)\n",
    "roadworks_transformed\n",
    "\n",
    "\n",
    "#remove NAN values\n",
    "filtered_df = roadworks_transformed.dropna(how='any')\n",
    "filtered_df\n",
    "filtered_df.isnull().values.any()\n"
   ]
  },
  {
   "cell_type": "code",
   "execution_count": 5,
   "metadata": {},
   "outputs": [
    {
     "name": "stdout",
     "output_type": "stream",
     "text": [
      "Empty DataFrame\n",
      "Columns: [startdate, finishdate, worktype, suburb, road, region, trafficimpact]\n",
      "Index: []\n"
     ]
    },
    {
     "name": "stderr",
     "output_type": "stream",
     "text": [
      "<ipython-input-5-55ee348ebc53>:3: UserWarning: Boolean Series key will be reindexed to match DataFrame index.\n",
      "  duplicateRowsDF = filtered_df[roadworks_transformed.duplicated()]\n"
     ]
    }
   ],
   "source": [
    "# check for duplicate rows except first occurrence based on all columns\n",
    "\n",
    "duplicateRowsDF = filtered_df[roadworks_transformed.duplicated()]\n",
    "print(duplicateRowsDF) #  duplicates no found "
   ]
  },
  {
   "cell_type": "code",
   "execution_count": 6,
   "metadata": {},
   "outputs": [
    {
     "name": "stdout",
     "output_type": "stream",
     "text": [
      "<class 'pandas.core.frame.DataFrame'>\n",
      "Int64Index: 17 entries, 0 to 71\n",
      "Data columns (total 8 columns):\n",
      " #   Column         Non-Null Count  Dtype \n",
      "---  ------         --------------  ----- \n",
      " 0   id             17 non-null     int64 \n",
      " 1   startdate      17 non-null     object\n",
      " 2   finishdate     17 non-null     object\n",
      " 3   worktype       17 non-null     object\n",
      " 4   suburb         17 non-null     object\n",
      " 5   road           17 non-null     object\n",
      " 6   region         17 non-null     object\n",
      " 7   trafficimpact  17 non-null     object\n",
      "dtypes: int64(1), object(7)\n",
      "memory usage: 1.2+ KB\n"
     ]
    }
   ],
   "source": [
    "#if duplicates >> clean the data by dropping duplicates and setting the index\n",
    "# roadworks_transformed.drop_duplicates(\"Id, inplace=True\")\n",
    "# roadworks_transformed.set_index(\"Id\", inplace=True)\n",
    "\n",
    "roadworks_final = filtered_df[~filtered_df.index.duplicated(keep='last')]\n",
    "roadworks_final.reset_index(inplace=True)\n",
    "# roadworks_final = roadworks_final.rename(columns={\"Id\": \"roadworks_id\"})\n",
    "roadworks_final_df= pd.DataFrame(roadworks_final)\n",
    "# roadworks_final_df.set_index(\"Id\", inplace=True)\n",
    "roadworks_final_filtered_df= roadworks_final_df.loc[roadworks_final_df['region'] == 'Metro', :]\n",
    "roadworks_final_filtered_df.head()\n",
    "roadworks_final_filtered_df.head()\n",
    "roadworks_final_filtered_df.info()"
   ]
  },
  {
   "cell_type": "markdown",
   "metadata": {},
   "source": [
    "### Create database connection"
   ]
  },
  {
   "cell_type": "code",
   "execution_count": 10,
   "metadata": {},
   "outputs": [],
   "source": [
    "# connection_string = \"postgres:postgres@localhost:5432/Roadworks_db\"\n",
    "# engine = create_engine(f'postgresql://{connection_string}')\n",
    "\n",
    "# Note above generate the below error1- \n",
    "# OperationalError: (psycopg2.OperationalError) FATAL:  password authentication failed for user \"postgres\"\n",
    "\n",
    "#tried the below instead\n",
    "engine = create_engine('postgresql+psycopg2://postgres:<Password>@localhost/roadworks_db?port=5432') \n",
    "\n"
   ]
  },
  {
   "cell_type": "code",
   "execution_count": 11,
   "metadata": {},
   "outputs": [],
   "source": [
    "# inspector = inspect(engine)\n",
    "# inspector.get_table_names()\n",
    "\n",
    "# columns = inspector.get_columns('roadworks_details')\n",
    "# for c in columns:\n",
    "#     print(c['name'], c[\"type\"])"
   ]
  },
  {
   "cell_type": "markdown",
   "metadata": {},
   "source": [
    "### Load DataFrames into database"
   ]
  },
  {
   "cell_type": "code",
   "execution_count": 13,
   "metadata": {},
   "outputs": [],
   "source": [
    "roadworks_final_filtered_df.to_sql(name='roadworks_details', con=engine, if_exists='append', index=False)\n",
    "\n",
    "# Note - \n",
    "# error2 below > fixed by seting Id as index\n",
    "# ProgrammingError: (psycopg2.errors.UndefinedColumn) column \"index\" of relation \"roadworks_details\" does not exist\n",
    "# LINE 1: INSERT INTO roadworks_details (index, \"Id\", \"Started Date\", ...\n",
    "\n",
    "#  error3 below > fixed by drop colunm in PostgreSQLdb and create new column for Roadworks_id and rename df id to 'Roadworks_id'\n",
    "# ProgrammingError: (psycopg2.errors.UndefinedColumn) column \"Id\" of relation \"roadworks_details\" does not exist\n",
    "# LINE 1: INSERT INTO roadworks_details (\"Id\", \"Started Date\", \"Comple\n",
    "\n",
    "#  error4 below > fixed by drop table and remove id from table\n",
    "# NotNullViolation: null value in column \"id\" violates not-null constraint\n",
    "# DETAIL:  Failing row contains (null, 45919, 2019-12-31, 2021-12-31, Maintenance, Perth City , Riverside Dr, Lane closures and speed reductions).\n",
    "\n",
    "#  error5 below > fixed by remove varchar number from worktype and traffic in postgres table/column description\n",
    "# StringDataRightTruncation: value too long for type character varying(250)"
   ]
  },
  {
   "cell_type": "code",
   "execution_count": null,
   "metadata": {},
   "outputs": [],
   "source": [
    "# "
   ]
  },
  {
   "cell_type": "code",
   "execution_count": null,
   "metadata": {},
   "outputs": [],
   "source": []
  }
 ],
 "metadata": {
  "kernelspec": {
   "display_name": "Python 3",
   "language": "python",
   "name": "python3"
  },
  "language_info": {
   "codemirror_mode": {
    "name": "ipython",
    "version": 3
   },
   "file_extension": ".py",
   "mimetype": "text/x-python",
   "name": "python",
   "nbconvert_exporter": "python",
   "pygments_lexer": "ipython3",
   "version": "3.8.5"
  }
 },
 "nbformat": 4,
 "nbformat_minor": 2
}
